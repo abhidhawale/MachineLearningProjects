{
  "nbformat": 4,
  "nbformat_minor": 0,
  "metadata": {
    "colab": {
      "name": "K-MeansClustering_Drivers.ipynb",
      "provenance": [],
      "authorship_tag": "ABX9TyOtcTLO/fgziFspRX4vDbg0",
      "include_colab_link": true
    },
    "kernelspec": {
      "name": "python3",
      "display_name": "Python 3"
    }
  },
  "cells": [
    {
      "cell_type": "markdown",
      "metadata": {
        "id": "view-in-github",
        "colab_type": "text"
      },
      "source": [
        "<a href=\"https://colab.research.google.com/github/abhidhawale/MachineLearningProjects/blob/master/K_MeansClustering_Drivers.ipynb\" target=\"_parent\"><img src=\"https://colab.research.google.com/assets/colab-badge.svg\" alt=\"Open In Colab\"/></a>"
      ]
    },
    {
      "cell_type": "markdown",
      "metadata": {
        "id": "9dS5l3ufCVOa"
      },
      "source": [
        "##Solve the K_Means of M.L using the given dataset driver_data.csv\n",
        "* As this is clustering algorithm it does not contain target variable. You have to form the clusters using k-means algorithm.\n",
        "* When the data is partitioned into clusters and you get additional new column. Convert that dataframe to new .csv file"
      ]
    },
    {
      "cell_type": "code",
      "metadata": {
        "id": "aCBqhJItFKRf",
        "outputId": "2ea551b7-0302-4346-df45-8eb6571741a4",
        "colab": {
          "base_uri": "https://localhost:8080/",
          "height": 195
        }
      },
      "source": [
        "import pandas as pd\n",
        "import numpy as np\n",
        "import matplotlib.pyplot as plt\n",
        "\n",
        "df = pd.read_csv('/content/dataset-43-1-driver-data.csv')\n",
        "df.head()"
      ],
      "execution_count": null,
      "outputs": [
        {
          "output_type": "execute_result",
          "data": {
            "text/html": [
              "<div>\n",
              "<style scoped>\n",
              "    .dataframe tbody tr th:only-of-type {\n",
              "        vertical-align: middle;\n",
              "    }\n",
              "\n",
              "    .dataframe tbody tr th {\n",
              "        vertical-align: top;\n",
              "    }\n",
              "\n",
              "    .dataframe thead th {\n",
              "        text-align: right;\n",
              "    }\n",
              "</style>\n",
              "<table border=\"1\" class=\"dataframe\">\n",
              "  <thead>\n",
              "    <tr style=\"text-align: right;\">\n",
              "      <th></th>\n",
              "      <th>Distance_Feature</th>\n",
              "      <th>Speeding_Feature</th>\n",
              "    </tr>\n",
              "  </thead>\n",
              "  <tbody>\n",
              "    <tr>\n",
              "      <th>0</th>\n",
              "      <td>71.24</td>\n",
              "      <td>28</td>\n",
              "    </tr>\n",
              "    <tr>\n",
              "      <th>1</th>\n",
              "      <td>52.53</td>\n",
              "      <td>25</td>\n",
              "    </tr>\n",
              "    <tr>\n",
              "      <th>2</th>\n",
              "      <td>64.54</td>\n",
              "      <td>27</td>\n",
              "    </tr>\n",
              "    <tr>\n",
              "      <th>3</th>\n",
              "      <td>55.69</td>\n",
              "      <td>22</td>\n",
              "    </tr>\n",
              "    <tr>\n",
              "      <th>4</th>\n",
              "      <td>54.58</td>\n",
              "      <td>25</td>\n",
              "    </tr>\n",
              "  </tbody>\n",
              "</table>\n",
              "</div>"
            ],
            "text/plain": [
              "   Distance_Feature  Speeding_Feature\n",
              "0             71.24                28\n",
              "1             52.53                25\n",
              "2             64.54                27\n",
              "3             55.69                22\n",
              "4             54.58                25"
            ]
          },
          "metadata": {
            "tags": []
          },
          "execution_count": 31
        }
      ]
    },
    {
      "cell_type": "code",
      "metadata": {
        "id": "VWeJ8YpqGBPG",
        "outputId": "67e64434-387d-465c-d328-7a66d8ad22a1",
        "colab": {
          "base_uri": "https://localhost:8080/",
          "height": 284
        }
      },
      "source": [
        "df.describe()"
      ],
      "execution_count": null,
      "outputs": [
        {
          "output_type": "execute_result",
          "data": {
            "text/html": [
              "<div>\n",
              "<style scoped>\n",
              "    .dataframe tbody tr th:only-of-type {\n",
              "        vertical-align: middle;\n",
              "    }\n",
              "\n",
              "    .dataframe tbody tr th {\n",
              "        vertical-align: top;\n",
              "    }\n",
              "\n",
              "    .dataframe thead th {\n",
              "        text-align: right;\n",
              "    }\n",
              "</style>\n",
              "<table border=\"1\" class=\"dataframe\">\n",
              "  <thead>\n",
              "    <tr style=\"text-align: right;\">\n",
              "      <th></th>\n",
              "      <th>Distance_Feature</th>\n",
              "      <th>Speeding_Feature</th>\n",
              "    </tr>\n",
              "  </thead>\n",
              "  <tbody>\n",
              "    <tr>\n",
              "      <th>count</th>\n",
              "      <td>4000.000000</td>\n",
              "      <td>4000.000000</td>\n",
              "    </tr>\n",
              "    <tr>\n",
              "      <th>mean</th>\n",
              "      <td>76.041523</td>\n",
              "      <td>10.721000</td>\n",
              "    </tr>\n",
              "    <tr>\n",
              "      <th>std</th>\n",
              "      <td>53.469563</td>\n",
              "      <td>13.708543</td>\n",
              "    </tr>\n",
              "    <tr>\n",
              "      <th>min</th>\n",
              "      <td>15.520000</td>\n",
              "      <td>0.000000</td>\n",
              "    </tr>\n",
              "    <tr>\n",
              "      <th>25%</th>\n",
              "      <td>45.247500</td>\n",
              "      <td>4.000000</td>\n",
              "    </tr>\n",
              "    <tr>\n",
              "      <th>50%</th>\n",
              "      <td>53.330000</td>\n",
              "      <td>6.000000</td>\n",
              "    </tr>\n",
              "    <tr>\n",
              "      <th>75%</th>\n",
              "      <td>65.632500</td>\n",
              "      <td>9.000000</td>\n",
              "    </tr>\n",
              "    <tr>\n",
              "      <th>max</th>\n",
              "      <td>244.790000</td>\n",
              "      <td>100.000000</td>\n",
              "    </tr>\n",
              "  </tbody>\n",
              "</table>\n",
              "</div>"
            ],
            "text/plain": [
              "       Distance_Feature  Speeding_Feature\n",
              "count       4000.000000       4000.000000\n",
              "mean          76.041523         10.721000\n",
              "std           53.469563         13.708543\n",
              "min           15.520000          0.000000\n",
              "25%           45.247500          4.000000\n",
              "50%           53.330000          6.000000\n",
              "75%           65.632500          9.000000\n",
              "max          244.790000        100.000000"
            ]
          },
          "metadata": {
            "tags": []
          },
          "execution_count": 32
        }
      ]
    },
    {
      "cell_type": "code",
      "metadata": {
        "id": "XxzURMPyGP5-",
        "outputId": "9846b839-620c-4ac5-e77d-0f53f38df816",
        "colab": {
          "base_uri": "https://localhost:8080/",
          "height": 140
        }
      },
      "source": [
        "from sklearn.preprocessing import StandardScaler\n",
        "ss = StandardScaler()\n",
        "\n",
        "scaled_df = ss.fit_transform(df)\n",
        "scaled_df"
      ],
      "execution_count": null,
      "outputs": [
        {
          "output_type": "execute_result",
          "data": {
            "text/plain": [
              "array([[-0.0898104 ,  1.26061251],\n",
              "       [-0.43977285,  1.04174351],\n",
              "       [-0.215131  ,  1.18765617],\n",
              "       ...,\n",
              "       [ 1.77447381,  0.09331115],\n",
              "       [ 1.87229869, -0.41738319],\n",
              "       [ 1.72060465, -0.12555785]])"
            ]
          },
          "metadata": {
            "tags": []
          },
          "execution_count": 33
        }
      ]
    },
    {
      "cell_type": "markdown",
      "metadata": {
        "id": "-3Vpk2cvCkYi"
      },
      "source": [
        "##Training model on data"
      ]
    },
    {
      "cell_type": "code",
      "metadata": {
        "id": "rN68JMOgGy3O"
      },
      "source": [
        "from sklearn.cluster import KMeans\n",
        "ssq = []\n",
        "\n",
        "for K in range(1,11):\n",
        "  mod = KMeans(n_clusters=K, random_state=123)\n",
        "\n",
        "  result = mod.fit(scaled_df)\n",
        "  ssq.append(mod.inertia_)"
      ],
      "execution_count": null,
      "outputs": []
    },
    {
      "cell_type": "markdown",
      "metadata": {
        "id": "yvL_aJCdCqD-"
      },
      "source": [
        "###Finding appropriate no. of clusters"
      ]
    },
    {
      "cell_type": "code",
      "metadata": {
        "id": "hwfLPbnpHjwb",
        "outputId": "c9b0400c-8dbf-43e2-a2be-09da594cde34",
        "colab": {
          "base_uri": "https://localhost:8080/",
          "height": 313
        }
      },
      "source": [
        "plt.plot(range(1,11), ssq, marker='o')\n",
        "plt.xlabel('Number of clusters')\n",
        "plt.ylabel('Within-cluster SSQ')\n",
        "plt.title('SSQ Plot')"
      ],
      "execution_count": null,
      "outputs": [
        {
          "output_type": "execute_result",
          "data": {
            "text/plain": [
              "Text(0.5, 1.0, 'SSQ Plot')"
            ]
          },
          "metadata": {
            "tags": []
          },
          "execution_count": 35
        },
        {
          "output_type": "display_data",
          "data": {
            "image/png": "[encoded data removed]",
            "text/plain": [
              "<Figure size 432x288 with 1 Axes>"
            ]
          },
          "metadata": {
            "tags": [],
            "needs_background": "light"
          }
        }
      ]
    },
    {
      "cell_type": "code",
      "metadata": {
        "id": "Cuu7BvvvIKIo"
      },
      "source": [
        "# Taking custer value = 4\n",
        "mod = KMeans(n_clusters=4, random_state=123)\n",
        "\n",
        "result = mod.fit(scaled_df)"
      ],
      "execution_count": null,
      "outputs": []
    },
    {
      "cell_type": "code",
      "metadata": {
        "id": "p7FbmF3xIdLx",
        "outputId": "88f949c6-5162-424c-b310-75bb8aeaaa89",
        "colab": {
          "base_uri": "https://localhost:8080/",
          "height": 34
        }
      },
      "source": [
        "predictions = result.predict(scaled_df)\n",
        "predictions[:5]"
      ],
      "execution_count": null,
      "outputs": [
        {
          "output_type": "execute_result",
          "data": {
            "text/plain": [
              "array([2, 2, 2, 2, 2], dtype=int32)"
            ]
          },
          "metadata": {
            "tags": []
          },
          "execution_count": 37
        }
      ]
    },
    {
      "cell_type": "markdown",
      "metadata": {
        "id": "EQUMnYBbCwzY"
      },
      "source": [
        "##Plotting clusters of data with centroids"
      ]
    },
    {
      "cell_type": "code",
      "metadata": {
        "id": "6JVs5Ds5IvDL",
        "outputId": "e773827b-c64c-407e-cc49-281e7c389237",
        "colab": {
          "base_uri": "https://localhost:8080/",
          "height": 295
        }
      },
      "source": [
        "plt.scatter(scaled_df[predictions==0,0], scaled_df[predictions==0,1], \n",
        "            s=50, c='lightgreen', marker='s', edgecolors='black', label='cluster 1')\n",
        "plt.scatter(scaled_df[predictions==1,0], scaled_df[predictions==1,1], \n",
        "            s=50, c='orange', marker='o', edgecolors='black', label='cluster 2')\n",
        "plt.scatter(scaled_df[predictions==2,0], scaled_df[predictions==2,1], \n",
        "            s=50, c='lightblue', marker='v', edgecolors='black', label='cluster 3')\n",
        "plt.scatter(scaled_df[predictions==3,0], scaled_df[predictions==3,1], \n",
        "            s=50, c='yellow', marker='s', edgecolors='black', label='cluster 4')\n",
        "\n",
        "plt.scatter(result.cluster_centers_[:,0], result.cluster_centers_[:,1], \n",
        "            s=250, c='red', marker='*', edgecolors='black', label='centroids')\n",
        "\n",
        "plt.legend(scatterpoints=1) \n",
        "plt.xlabel('Distance') \n",
        "plt.ylabel('Speeding') \n",
        "plt.title('Clustering Output')\n",
        "plt.show()"
      ],
      "execution_count": null,
      "outputs": [
        {
          "output_type": "display_data",
          "data": {
            "image/png": "[encoded data removed]",
            "text/plain": [
              "<Figure size 432x288 with 1 Axes>"
            ]
          },
          "metadata": {
            "tags": [],
            "needs_background": "light"
          }
        }
      ]
    },
    {
      "cell_type": "markdown",
      "metadata": {
        "id": "plJatvk0C8yk"
      },
      "source": [
        "##Deploying model and saving to new .csv file"
      ]
    },
    {
      "cell_type": "code",
      "metadata": {
        "id": "Y3CHyf3VLUKc",
        "outputId": "107d03a9-d062-493e-9557-c77f3ef07c0a",
        "colab": {
          "base_uri": "https://localhost:8080/",
          "height": 225
        }
      },
      "source": [
        "predictions_relabelled = np.where(predictions==0, 'A', np.where(predictions==1, 'B', \n",
        "                                                                np.where(predictions==2, 'C','D')))\n",
        "predictions_relabelled = pd.DataFrame(predictions_relabelled)\n",
        "\n",
        "df.loc[:,'category'] = predictions_relabelled.values\n",
        "df.index.name = 'Number'\n",
        "\n",
        "df.head()"
      ],
      "execution_count": null,
      "outputs": [
        {
          "output_type": "execute_result",
          "data": {
            "text/html": [
              "<div>\n",
              "<style scoped>\n",
              "    .dataframe tbody tr th:only-of-type {\n",
              "        vertical-align: middle;\n",
              "    }\n",
              "\n",
              "    .dataframe tbody tr th {\n",
              "        vertical-align: top;\n",
              "    }\n",
              "\n",
              "    .dataframe thead th {\n",
              "        text-align: right;\n",
              "    }\n",
              "</style>\n",
              "<table border=\"1\" class=\"dataframe\">\n",
              "  <thead>\n",
              "    <tr style=\"text-align: right;\">\n",
              "      <th></th>\n",
              "      <th>Distance_Feature</th>\n",
              "      <th>Speeding_Feature</th>\n",
              "      <th>category</th>\n",
              "    </tr>\n",
              "    <tr>\n",
              "      <th>Number</th>\n",
              "      <th></th>\n",
              "      <th></th>\n",
              "      <th></th>\n",
              "    </tr>\n",
              "  </thead>\n",
              "  <tbody>\n",
              "    <tr>\n",
              "      <th>0</th>\n",
              "      <td>71.24</td>\n",
              "      <td>28</td>\n",
              "      <td>C</td>\n",
              "    </tr>\n",
              "    <tr>\n",
              "      <th>1</th>\n",
              "      <td>52.53</td>\n",
              "      <td>25</td>\n",
              "      <td>C</td>\n",
              "    </tr>\n",
              "    <tr>\n",
              "      <th>2</th>\n",
              "      <td>64.54</td>\n",
              "      <td>27</td>\n",
              "      <td>C</td>\n",
              "    </tr>\n",
              "    <tr>\n",
              "      <th>3</th>\n",
              "      <td>55.69</td>\n",
              "      <td>22</td>\n",
              "      <td>C</td>\n",
              "    </tr>\n",
              "    <tr>\n",
              "      <th>4</th>\n",
              "      <td>54.58</td>\n",
              "      <td>25</td>\n",
              "      <td>C</td>\n",
              "    </tr>\n",
              "  </tbody>\n",
              "</table>\n",
              "</div>"
            ],
            "text/plain": [
              "        Distance_Feature  Speeding_Feature category\n",
              "Number                                             \n",
              "0                  71.24                28        C\n",
              "1                  52.53                25        C\n",
              "2                  64.54                27        C\n",
              "3                  55.69                22        C\n",
              "4                  54.58                25        C"
            ]
          },
          "metadata": {
            "tags": []
          },
          "execution_count": 45
        }
      ]
    },
    {
      "cell_type": "code",
      "metadata": {
        "id": "r17tzVMiMres",
        "outputId": "1be48800-85eb-490e-d980-bf483f514b6a",
        "colab": {
          "base_uri": "https://localhost:8080/",
          "height": 225
        }
      },
      "source": [
        "df.tail()"
      ],
      "execution_count": null,
      "outputs": [
        {
          "output_type": "execute_result",
          "data": {
            "text/html": [
              "<div>\n",
              "<style scoped>\n",
              "    .dataframe tbody tr th:only-of-type {\n",
              "        vertical-align: middle;\n",
              "    }\n",
              "\n",
              "    .dataframe tbody tr th {\n",
              "        vertical-align: top;\n",
              "    }\n",
              "\n",
              "    .dataframe thead th {\n",
              "        text-align: right;\n",
              "    }\n",
              "</style>\n",
              "<table border=\"1\" class=\"dataframe\">\n",
              "  <thead>\n",
              "    <tr style=\"text-align: right;\">\n",
              "      <th></th>\n",
              "      <th>Distance_Feature</th>\n",
              "      <th>Speeding_Feature</th>\n",
              "      <th>category</th>\n",
              "    </tr>\n",
              "    <tr>\n",
              "      <th>Number</th>\n",
              "      <th></th>\n",
              "      <th></th>\n",
              "      <th></th>\n",
              "    </tr>\n",
              "  </thead>\n",
              "  <tbody>\n",
              "    <tr>\n",
              "      <th>3995</th>\n",
              "      <td>160.04</td>\n",
              "      <td>10</td>\n",
              "      <td>B</td>\n",
              "    </tr>\n",
              "    <tr>\n",
              "      <th>3996</th>\n",
              "      <td>176.17</td>\n",
              "      <td>5</td>\n",
              "      <td>B</td>\n",
              "    </tr>\n",
              "    <tr>\n",
              "      <th>3997</th>\n",
              "      <td>170.91</td>\n",
              "      <td>12</td>\n",
              "      <td>B</td>\n",
              "    </tr>\n",
              "    <tr>\n",
              "      <th>3998</th>\n",
              "      <td>176.14</td>\n",
              "      <td>5</td>\n",
              "      <td>B</td>\n",
              "    </tr>\n",
              "    <tr>\n",
              "      <th>3999</th>\n",
              "      <td>168.03</td>\n",
              "      <td>9</td>\n",
              "      <td>B</td>\n",
              "    </tr>\n",
              "  </tbody>\n",
              "</table>\n",
              "</div>"
            ],
            "text/plain": [
              "        Distance_Feature  Speeding_Feature category\n",
              "Number                                             \n",
              "3995              160.04                10        B\n",
              "3996              176.17                 5        B\n",
              "3997              170.91                12        B\n",
              "3998              176.14                 5        B\n",
              "3999              168.03                 9        B"
            ]
          },
          "metadata": {
            "tags": []
          },
          "execution_count": 46
        }
      ]
    },
    {
      "cell_type": "code",
      "metadata": {
        "id": "YL5g4lbWMsD7"
      },
      "source": [
        "df.to_csv('driver_seg_output.csv', index=False)"
      ],
      "execution_count": null,
      "outputs": []
    }
  ]
}